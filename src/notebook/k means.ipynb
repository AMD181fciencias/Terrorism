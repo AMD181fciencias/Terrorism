{
 "cells": [
  {
   "cell_type": "markdown",
   "metadata": {},
   "source": [
    "# Algoritmo de k means"
   ]
  },
  {
   "cell_type": "code",
   "execution_count": 81,
   "metadata": {},
   "outputs": [],
   "source": [
    "# RCM3\n",
    "import pandas as pd\n",
    "import matplotlib\n",
    "import numpy as np\n",
    "import matplotlib.pyplot as plt\n",
    "%matplotlib inline\n",
    "import warnings\n",
    "from sklearn.cluster import KMeans\n",
    "from sklearn.model_selection import train_test_split\n",
    "from mpl_toolkits.mplot3d import Axes3D\n",
    "\n",
    "warnings.filterwarnings('ignore')\n",
    "data_set = pd.read_csv('../../data/globalterrorismdb_0617dist.csv', encoding='ISO-8859-1',usecols=[1,2,3,7,9,13,14, 34, 83, 100, 103])\n",
    "data_set = data_set.rename(\n",
    "    columns={'iyear':'year','targtype1':'target','weapsubtype1':'weapon', 'nkillter':'fatalities',\n",
    "             'nwoundte':'injuries', 'imonth':'month','iday':'day'})\n",
    "data_set['fatalities'] = data_set['fatalities'].fillna(0).astype(int)\n",
    "data_set['injuries'] = data_set['injuries'].fillna(0).astype(int)\n",
    "data_set['country'] = data_set['country'].fillna(0).astype(int)\n",
    "data_set['region'] = data_set['region'].fillna(0).astype(int)\n",
    "data_set['target'] = data_set['target'].fillna(0).astype(int)\n",
    "data_set['weapon'] = data_set['weapon'].fillna(0).astype(int)\n",
    "data_set['year'] = data_set['year'].fillna(0).astype(int)\n",
    "data_set['month'] = data_set['month'].fillna(0).astype(int)\n",
    "data_set['day'] = data_set['day'].fillna(0).astype(int)\n",
    "data_set['latitude'] = data_set['latitude'].fillna(0).astype(int)\n",
    "data_set['longitude'] = data_set['longitude'].fillna(0).astype(int)\n",
    "\n",
    "X_train, X_test, y_train, y_test = train_test_split(data_set,data_set['fatalities'],test_size=0.33, random_state=42)\n",
    "#kmeans = KMeans(n_clusters=10, random_state=0).fit(X)"
   ]
  },
  {
   "cell_type": "code",
   "execution_count": null,
   "metadata": {
    "collapsed": true
   },
   "outputs": [],
   "source": [
    "data_set['fatalities'] = data_set['fatalities'].lambda()"
   ]
  },
  {
   "cell_type": "code",
   "execution_count": 72,
   "metadata": {},
   "outputs": [],
   "source": [
    "X =X_train.as_matrix(columns=None)"
   ]
  },
  {
   "cell_type": "code",
   "execution_count": 73,
   "metadata": {},
   "outputs": [],
   "source": [
    "est.fit(X)\n",
    "x_test = X_test.as_matrix(columns=None)"
   ]
  },
  {
   "cell_type": "code",
   "execution_count": 78,
   "metadata": {},
   "outputs": [
    {
     "data": {
      "text/plain": [
       "array([1], dtype=int32)"
      ]
     },
     "execution_count": 78,
     "metadata": {},
     "output_type": "execute_result"
    }
   ],
   "source": [
    "est.predict(x_test[[8]])\n",
    "est.predict(x_test[[0]])"
   ]
  },
  {
   "cell_type": "code",
   "execution_count": null,
   "metadata": {
    "collapsed": true
   },
   "outputs": [],
   "source": []
  },
  {
   "cell_type": "code",
   "execution_count": null,
   "metadata": {
    "collapsed": true
   },
   "outputs": [],
   "source": []
  },
  {
   "cell_type": "code",
   "execution_count": null,
   "metadata": {
    "collapsed": true
   },
   "outputs": [],
   "source": []
  }
 ],
 "metadata": {
  "kernelspec": {
   "display_name": "Python 3",
   "language": "python",
   "name": "python3"
  },
  "language_info": {
   "codemirror_mode": {
    "name": "ipython",
    "version": 3
   },
   "file_extension": ".py",
   "mimetype": "text/x-python",
   "name": "python",
   "nbconvert_exporter": "python",
   "pygments_lexer": "ipython3",
   "version": "3.6.1"
  }
 },
 "nbformat": 4,
 "nbformat_minor": 2
}
